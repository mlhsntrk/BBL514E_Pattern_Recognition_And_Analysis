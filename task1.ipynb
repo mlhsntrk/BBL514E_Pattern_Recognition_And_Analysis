{
 "cells": [
  {
   "cell_type": "code",
   "execution_count": 1,
   "metadata": {},
   "outputs": [],
   "source": [
    "import numpy as np\n",
    "import pandas as pd"
   ]
  },
  {
   "cell_type": "code",
   "execution_count": 4,
   "metadata": {},
   "outputs": [
    {
     "name": "stdout",
     "output_type": "stream",
     "text": [
      "Collecting openpyxl\n",
      "  Downloading openpyxl-3.0.9-py2.py3-none-any.whl (242 kB)\n",
      "\u001b[K     |████████████████████████████████| 242 kB 68 kB/s eta 0:00:011\n",
      "\u001b[?25hCollecting et-xmlfile\n",
      "  Downloading et_xmlfile-1.1.0-py3-none-any.whl (4.7 kB)\n",
      "Installing collected packages: et-xmlfile, openpyxl\n",
      "Successfully installed et-xmlfile-1.1.0 openpyxl-3.0.9\n"
     ]
    }
   ],
   "source": [
    "!pip3 install openpyxl"
   ]
  },
  {
   "cell_type": "code",
   "execution_count": 26,
   "metadata": {},
   "outputs": [],
   "source": [
    "yetkilendirme_dataframe = pd.read_excel(\"yetkilendirme.xlsx\")"
   ]
  },
  {
   "cell_type": "code",
   "execution_count": 27,
   "metadata": {},
   "outputs": [],
   "source": [
    "yeni_yetkilendirme = pd.DataFrame(columns = [\"MODUL\",\n",
    "                                             \"ROL_ADI\",\n",
    "                                             \"ROL_TANIMI\",\n",
    "                                             \"ISLEM_KODLARI\",])"
   ]
  },
  {
   "cell_type": "code",
   "execution_count": 28,
   "metadata": {},
   "outputs": [],
   "source": [
    "for rol_adi, frame in yetkilendirme_dataframe.groupby(\"ROL_ADI\"):\n",
    "    islem_kodlari = []\n",
    "    for islem in frame[\"ISLEM_KODU\"]:\n",
    "        islem_kodlari.append(islem)\n",
    "    modul = frame[\"MODUL\"].iloc[0]\n",
    "    rol_adi = frame[\"ROL_ADI\"].iloc[0]\n",
    "    rol_tanimi = frame[\"ROL_TANIMI\"].iloc[0]\n",
    "    yeni_yetkilendirme = yeni_yetkilendirme.append({\"MODUL\": modul,\n",
    "                                                    \"ROL_ADI\": rol_adi,\n",
    "                                                    \"ROL_TANIMI\": rol_tanimi,\n",
    "                                                    \"ISLEM_KODLARI\": islem_kodlari}, ignore_index = True)\n",
    "    ','.join(islem_kodlari)"
   ]
  },
  {
   "cell_type": "code",
   "execution_count": 29,
   "metadata": {},
   "outputs": [
    {
     "data": {
      "text/html": [
       "<div>\n",
       "<style scoped>\n",
       "    .dataframe tbody tr th:only-of-type {\n",
       "        vertical-align: middle;\n",
       "    }\n",
       "\n",
       "    .dataframe tbody tr th {\n",
       "        vertical-align: top;\n",
       "    }\n",
       "\n",
       "    .dataframe thead th {\n",
       "        text-align: right;\n",
       "    }\n",
       "</style>\n",
       "<table border=\"1\" class=\"dataframe\">\n",
       "  <thead>\n",
       "    <tr style=\"text-align: right;\">\n",
       "      <th></th>\n",
       "      <th>MODUL</th>\n",
       "      <th>ROL_ADI</th>\n",
       "      <th>ROL_TANIMI</th>\n",
       "      <th>ISLEM_KODLARI</th>\n",
       "    </tr>\n",
       "  </thead>\n",
       "  <tbody>\n",
       "    <tr>\n",
       "      <th>0</th>\n",
       "      <td>PM</td>\n",
       "      <td>ZMPM:B00:ANALYSIS_REP</td>\n",
       "      <td>PM: PM - Analiz Raporları</td>\n",
       "      <td>[MCI8, MCI7, MCI4, MCI3]</td>\n",
       "    </tr>\n",
       "    <tr>\n",
       "      <th>1</th>\n",
       "      <td>PM</td>\n",
       "      <td>ZMPM:B00:B01:B02:M05:EP_MD_REP</td>\n",
       "      <td>PM: PM - Ekipman Ana Veri Raporları</td>\n",
       "      <td>[IE07, IE36, IH03, IH08, IH05]</td>\n",
       "    </tr>\n",
       "    <tr>\n",
       "      <th>2</th>\n",
       "      <td>PM</td>\n",
       "      <td>ZMPM:B00:B01:B02:M05:MD_PM_REP</td>\n",
       "      <td>PM: PM - Ana Veri Raporları</td>\n",
       "      <td>[IL07, IW65, IW67]</td>\n",
       "    </tr>\n",
       "    <tr>\n",
       "      <th>3</th>\n",
       "      <td>PM</td>\n",
       "      <td>ZMPM:B00:B01:B03:B04:NOT_MNT</td>\n",
       "      <td>PM: PM - Bildirim Yönetimi</td>\n",
       "      <td>[IQS1, IQS2, IW21, IW22, IW24, IW25, IW26, IW2...</td>\n",
       "    </tr>\n",
       "    <tr>\n",
       "      <th>4</th>\n",
       "      <td>PM</td>\n",
       "      <td>ZMPM:B00:B01:B04:M05:FL_MD_MNT</td>\n",
       "      <td>PM: PM - Teknik Birim Ana Veri Yönetimi</td>\n",
       "      <td>[IL01, IL02, IL05, IL06]</td>\n",
       "    </tr>\n",
       "    <tr>\n",
       "      <th>...</th>\n",
       "      <td>...</td>\n",
       "      <td>...</td>\n",
       "      <td>...</td>\n",
       "      <td>...</td>\n",
       "    </tr>\n",
       "    <tr>\n",
       "      <th>77</th>\n",
       "      <td>QM</td>\n",
       "      <td>ZSQM:CHAR_DATE_CONTROL_MNT</td>\n",
       "      <td>QM: QM - Karakteristik DB Kontrol Yönetimi</td>\n",
       "      <td>[ZQM005]</td>\n",
       "    </tr>\n",
       "    <tr>\n",
       "      <th>78</th>\n",
       "      <td>QM</td>\n",
       "      <td>ZSQM:CHAR_LABEL_MNT</td>\n",
       "      <td>QM: QM - Karakteristik Etiket Eşleşme Tablosu ...</td>\n",
       "      <td>[ZQM003]</td>\n",
       "    </tr>\n",
       "    <tr>\n",
       "      <th>79</th>\n",
       "      <td>QM</td>\n",
       "      <td>ZSQM:DOC_REV_INF_MNT</td>\n",
       "      <td>QM:QM - Form Revizyon Bakımı Yönetimi</td>\n",
       "      <td>[ZQM016]</td>\n",
       "    </tr>\n",
       "    <tr>\n",
       "      <th>80</th>\n",
       "      <td>QM</td>\n",
       "      <td>ZSQM:PROMAN_CHAR_DB_MNT</td>\n",
       "      <td>QM: QM - Promanage Karakteristikler DB Yönetimi</td>\n",
       "      <td>[ZQM001]</td>\n",
       "    </tr>\n",
       "    <tr>\n",
       "      <th>81</th>\n",
       "      <td>QM</td>\n",
       "      <td>ZSQM:WH_CONTROL_MNT</td>\n",
       "      <td>QM: QM - Depo Kontrolü Yönetimi</td>\n",
       "      <td>[ZQM002]</td>\n",
       "    </tr>\n",
       "  </tbody>\n",
       "</table>\n",
       "<p>82 rows × 4 columns</p>\n",
       "</div>"
      ],
      "text/plain": [
       "   MODUL                         ROL_ADI  \\\n",
       "0     PM           ZMPM:B00:ANALYSIS_REP   \n",
       "1     PM  ZMPM:B00:B01:B02:M05:EP_MD_REP   \n",
       "2     PM  ZMPM:B00:B01:B02:M05:MD_PM_REP   \n",
       "3     PM    ZMPM:B00:B01:B03:B04:NOT_MNT   \n",
       "4     PM  ZMPM:B00:B01:B04:M05:FL_MD_MNT   \n",
       "..   ...                             ...   \n",
       "77    QM      ZSQM:CHAR_DATE_CONTROL_MNT   \n",
       "78    QM             ZSQM:CHAR_LABEL_MNT   \n",
       "79    QM            ZSQM:DOC_REV_INF_MNT   \n",
       "80    QM         ZSQM:PROMAN_CHAR_DB_MNT   \n",
       "81    QM             ZSQM:WH_CONTROL_MNT   \n",
       "\n",
       "                                           ROL_TANIMI  \\\n",
       "0                           PM: PM - Analiz Raporları   \n",
       "1                 PM: PM - Ekipman Ana Veri Raporları   \n",
       "2                         PM: PM - Ana Veri Raporları   \n",
       "3                          PM: PM - Bildirim Yönetimi   \n",
       "4             PM: PM - Teknik Birim Ana Veri Yönetimi   \n",
       "..                                                ...   \n",
       "77         QM: QM - Karakteristik DB Kontrol Yönetimi   \n",
       "78  QM: QM - Karakteristik Etiket Eşleşme Tablosu ...   \n",
       "79              QM:QM - Form Revizyon Bakımı Yönetimi   \n",
       "80    QM: QM - Promanage Karakteristikler DB Yönetimi   \n",
       "81                    QM: QM - Depo Kontrolü Yönetimi   \n",
       "\n",
       "                                        ISLEM_KODLARI  \n",
       "0                            [MCI8, MCI7, MCI4, MCI3]  \n",
       "1                      [IE07, IE36, IH03, IH08, IH05]  \n",
       "2                                  [IL07, IW65, IW67]  \n",
       "3   [IQS1, IQS2, IW21, IW22, IW24, IW25, IW26, IW2...  \n",
       "4                            [IL01, IL02, IL05, IL06]  \n",
       "..                                                ...  \n",
       "77                                           [ZQM005]  \n",
       "78                                           [ZQM003]  \n",
       "79                                           [ZQM016]  \n",
       "80                                           [ZQM001]  \n",
       "81                                           [ZQM002]  \n",
       "\n",
       "[82 rows x 4 columns]"
      ]
     },
     "execution_count": 29,
     "metadata": {},
     "output_type": "execute_result"
    }
   ],
   "source": [
    "yeni_yetkilendirme"
   ]
  },
  {
   "cell_type": "code",
   "execution_count": 30,
   "metadata": {},
   "outputs": [],
   "source": [
    "yeni_yetkilendirme.to_excel(\"yeni_yetkilendirme.xlsx\")"
   ]
  }
 ],
 "metadata": {
  "interpreter": {
   "hash": "916dbcbb3f70747c44a77c7bcd40155683ae19c65e1c03b4aa3499c5328201f1"
  },
  "kernelspec": {
   "display_name": "Python 3.8.10 64-bit",
   "language": "python",
   "name": "python3"
  },
  "language_info": {
   "codemirror_mode": {
    "name": "ipython",
    "version": 3
   },
   "file_extension": ".py",
   "mimetype": "text/x-python",
   "name": "python",
   "nbconvert_exporter": "python",
   "pygments_lexer": "ipython3",
   "version": "3.8.10"
  },
  "orig_nbformat": 4
 },
 "nbformat": 4,
 "nbformat_minor": 2
}
